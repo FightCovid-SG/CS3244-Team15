{
  "nbformat": 4,
  "nbformat_minor": 0,
  "metadata": {
    "kernelspec": {
      "display_name": "Python 3",
      "language": "python",
      "name": "python3"
    },
    "language_info": {
      "codemirror_mode": {
        "name": "ipython",
        "version": 3
      },
      "file_extension": ".py",
      "mimetype": "text/x-python",
      "name": "python",
      "nbconvert_exporter": "python",
      "pygments_lexer": "ipython3",
      "version": "3.7.3"
    },
    "colab": {
      "name": "Copy of Copy of (chinese)ml_baseline-test.ipynb",
      "provenance": []
    }
  },
  "cells": [
    {
      "cell_type": "code",
      "metadata": {
        "id": "IVc4XJAhm7gK",
        "colab": {
          "base_uri": "https://localhost:8080/",
          "height": 119
        },
        "outputId": "20f4d62b-b6f8-412d-a50f-ac19fc3f4924"
      },
      "source": [
        "import pandas as pd\n",
        "import nltk\n",
        "import re\n",
        "from nltk.corpus import stopwords\n",
        "import matplotlib.pyplot as plt\n",
        "from sklearn.feature_extraction.text import CountVectorizer, TfidfTransformer\n",
        "from sklearn.metrics import classification_report,confusion_matrix\n",
        "from sklearn.metrics import accuracy_score, f1_score, precision_score, recall_score\n",
        "from sklearn.svm import LinearSVC\n",
        "from sklearn.pipeline import Pipeline\n",
        "from sklearn.linear_model import SGDClassifier, LogisticRegression\n",
        "from joblib import dump, load\n",
        "from sklearn.ensemble import GradientBoostingClassifier\n",
        "from sklearn import tree\n",
        "import numpy as np\n",
        "import itertools\n",
        "from sklearn.naive_bayes import GaussianNB\n",
        "from sklearn import neighbors\n",
        "from sklearn.ensemble import RandomForestClassifier\n",
        "\n",
        "'''\n",
        "Disclaimer: the following code is adapted from \n",
        "https://github.com/parthpatwa/covid19-fake-news-detection\n",
        "\n",
        "@misc{patwa2020fighting,\n",
        "title={Fighting an Infodemic: COVID-19 Fake News Dataset}, \n",
        "author={Parth Patwa and Shivam Sharma and Srinivas PYKL and Vineeth Guptha and Gitanjali Kumari and Md Shad Akhtar and Asif Ekbal and Amitava Das and Tanmoy Chakraborty},\n",
        "year={2020},\n",
        "eprint={2011.03327},\n",
        "archivePrefix={arXiv},\n",
        "primaryClass={cs.CL}\n",
        "}\n",
        "'''"
      ],
      "execution_count": null,
      "outputs": [
        {
          "output_type": "execute_result",
          "data": {
            "application/vnd.google.colaboratory.intrinsic+json": {
              "type": "string"
            },
            "text/plain": [
              "'\\nDisclaimer: the following code is adapted from \\nhttps://github.com/parthpatwa/covid19-fake-news-detection\\n\\n@misc{patwa2020fighting,\\ntitle={Fighting an Infodemic: COVID-19 Fake News Dataset}, \\nauthor={Parth Patwa and Shivam Sharma and Srinivas PYKL and Vineeth Guptha and Gitanjali Kumari and Md Shad Akhtar and Asif Ekbal and Amitava Das and Tanmoy Chakraborty},\\nyear={2020},\\neprint={2011.03327},\\narchivePrefix={arXiv},\\nprimaryClass={cs.CL}\\n}\\n'"
            ]
          },
          "metadata": {
            "tags": []
          },
          "execution_count": 2
        }
      ]
    },
    {
      "cell_type": "code",
      "metadata": {
        "colab": {
          "base_uri": "https://localhost:8080/"
        },
        "id": "2nxoHKrcoS3-",
        "outputId": "d28dd8b4-af42-4239-da6c-0664fc3e1f75"
      },
      "source": [
        "from google.colab import drive\n",
        "drive.mount('/content/drive')"
      ],
      "execution_count": null,
      "outputs": [
        {
          "output_type": "stream",
          "text": [
            "Mounted at /content/drive\n"
          ],
          "name": "stdout"
        }
      ]
    },
    {
      "cell_type": "code",
      "metadata": {
        "id": "9_wv0VYKm7gX"
      },
      "source": [
        "def plot_confusion_matrix(cm,\n",
        "                          target_names,\n",
        "                          title='Confusion matrix',\n",
        "                          cmap=None,\n",
        "                          normalize=True):\n",
        "    \"\"\"\n",
        "    given a sklearn confusion matrix (cm), make a nice plot\n",
        "\n",
        "    Arguments\n",
        "    ---------\n",
        "    cm:           confusion matrix from sklearn.metrics.confusion_matrix\n",
        "\n",
        "    target_names: given classification classes such as [0, 1, 2]\n",
        "                  the class names, for example: ['high', 'medium', 'low']\n",
        "\n",
        "    title:        the text to display at the top of the matrix\n",
        "\n",
        "    cmap:         the gradient of the values displayed from matplotlib.pyplot.cm\n",
        "                  see http://matplotlib.org/examples/color/colormaps_reference.html\n",
        "                  plt.get_cmap('jet') or plt.cm.Blues\n",
        "\n",
        "    normalize:    If False, plot the raw numbers\n",
        "                  If True, plot the proportions\n",
        "\n",
        "    Usage\n",
        "    -----\n",
        "    plot_confusion_matrix(cm           = cm,                  # confusion matrix created by\n",
        "                                                              # sklearn.metrics.confusion_matrix\n",
        "                          normalize    = True,                # show proportions\n",
        "                          target_names = y_labels_vals,       # list of names of the classes\n",
        "                          title        = best_estimator_name) # title of graph\n",
        "\n",
        "    Citiation\n",
        "    ---------\n",
        "    http://scikit-learn.org/stable/auto_examples/model_selection/plot_confusion_matrix.html\n",
        "\n",
        "    \"\"\"\n",
        "\n",
        "    accuracy = np.trace(cm) / float(np.sum(cm))\n",
        "    misclass = 1 - accuracy\n",
        "\n",
        "    if cmap is None:\n",
        "        cmap = plt.get_cmap('Blues')\n",
        "\n",
        "    plt.figure(figsize=(5, 4))\n",
        "    plt.imshow(cm, interpolation='nearest', cmap=cmap)\n",
        "    plt.title(title)\n",
        "    plt.colorbar()\n",
        "\n",
        "    if target_names is not None:\n",
        "        tick_marks = np.arange(len(target_names))\n",
        "        plt.xticks(tick_marks, target_names, rotation=45)\n",
        "        plt.yticks(tick_marks, target_names)\n",
        "\n",
        "    if normalize:\n",
        "        cm = cm.astype('float') / cm.sum(axis=1)[:, np.newaxis]\n",
        "\n",
        "\n",
        "    thresh = cm.max() / 1.5 if normalize else cm.max() / 2\n",
        "    for i, j in itertools.product(range(cm.shape[0]), range(cm.shape[1])):\n",
        "        if normalize:\n",
        "            plt.text(j, i, \"{:0.4f}\".format(cm[i, j]),\n",
        "                     horizontalalignment=\"center\",\n",
        "                     color=\"white\" if cm[i, j] > thresh else \"black\")\n",
        "        else:\n",
        "            plt.text(j, i, \"{:,}\".format(cm[i, j]),\n",
        "                     horizontalalignment=\"center\",\n",
        "                     color=\"white\" if cm[i, j] > thresh else \"black\")\n",
        "\n",
        "\n",
        "    plt.tight_layout()\n",
        "    plt.ylabel('True label')\n",
        "    plt.xlabel('Predicted label')\n",
        "    plt.show()"
      ],
      "execution_count": null,
      "outputs": []
    },
    {
      "cell_type": "code",
      "metadata": {
        "colab": {
          "base_uri": "https://localhost:8080/"
        },
        "id": "BDe5hzgfpq0Q",
        "outputId": "ed0623b9-800f-44ec-fd0d-5efee7233e5f"
      },
      "source": [
        "# lazy install stopwords and jieba\n",
        "nltk.download('stopwords')\n",
        "!pip install stopwordsiso\n",
        "import stopwordsiso as stopwords\n",
        "\n",
        "!pip install jieba \n",
        "import jieba\n",
        "import jieba.posseg as pseg"
      ],
      "execution_count": null,
      "outputs": [
        {
          "output_type": "stream",
          "text": [
            "[nltk_data] Downloading package stopwords to /root/nltk_data...\n",
            "[nltk_data]   Unzipping corpora/stopwords.zip.\n",
            "Collecting stopwordsiso\n",
            "\u001b[?25l  Downloading https://files.pythonhosted.org/packages/3e/03/4c5f24b654bb9459f81aa5c1b60b094b804286b99dca9f2e116c9eb01ac8/stopwordsiso-0.6.1-py3-none-any.whl (73kB)\n",
            "\u001b[K     |████████████████████████████████| 81kB 3.6MB/s \n",
            "\u001b[?25hInstalling collected packages: stopwordsiso\n",
            "Successfully installed stopwordsiso-0.6.1\n",
            "Requirement already satisfied: jieba in /usr/local/lib/python3.7/dist-packages (0.42.1)\n"
          ],
          "name": "stdout"
        }
      ]
    },
    {
      "cell_type": "code",
      "metadata": {
        "id": "_6zztMHcm7gY"
      },
      "source": [
        "# data cleaning and splitting\n",
        "def clear_character(sentence):\n",
        "    pattern1='[a-zA-Z0-9]'\n",
        "    pattern2 = '\\[.*?\\]'\n",
        "    pattern3 = re.compile(u'[^\\s1234567890:：' + '\\u4e00-\\u9fa5]+')\n",
        "    pattern4='[’!\"#$%&\\'()*+,-./:;<=>?@[\\\\]^_`{|}~]+'\n",
        "    line1=re.sub(pattern1,'', str(sentence))   # removing the number and english\n",
        "    line2=re.sub(pattern2,'', str(line1))   # removing emoji\n",
        "    line3=re.sub(pattern3,'', str(line2))   # romoving other punctuation\n",
        "    line4=re.sub(pattern4, '', str(line3)) # romoving other punctuation\n",
        "    new_sentence=''.join(line4.split()) # removing space\n",
        "    return new_sentence\n",
        "\n",
        "\n",
        "def text_clean(contents):\n",
        "    contents = clear_character(contents)  \n",
        "    contents = jieba.lcut(contents)\n",
        "    sentence=' '.join(contents)\n",
        "    return sentence\n"
      ],
      "execution_count": null,
      "outputs": []
    },
    {
      "cell_type": "code",
      "metadata": {
        "id": "i6BuUsm8m7gY"
      },
      "source": [
        "# load dataset\n",
        "train = pd.read_csv('/content/drive/MyDrive/chinese_train.csv')\n",
        "val = pd.read_csv('/content/drive/MyDrive/chinese_validate.csv')\n",
        "test = pd.read_csv('/content/drive/MyDrive/chinese_test.csv')"
      ],
      "execution_count": null,
      "outputs": []
    },
    {
      "cell_type": "code",
      "metadata": {
        "id": "JIsnqsHYm7gZ"
      },
      "source": [
        "# clean dataset\n",
        "train['text'] = train['text'].map(lambda x: text_clean(x))\n",
        "val['text'] = val['text'].map(lambda x: text_clean(x))\n",
        "test['text'] = test['text'].map(lambda x: text_clean(x))"
      ],
      "execution_count": null,
      "outputs": []
    },
    {
      "cell_type": "code",
      "metadata": {
        "id": "rsfKc9aFm7gZ"
      },
      "source": [
        "def print_metrices(pred,true):\n",
        "    print(confusion_matrix(true,pred))\n",
        "    print(classification_report(true,pred,))\n",
        "    print(\"Accuracy : \",accuracy_score(pred,true))\n",
        "    print(\"Precison : \",precision_score(pred,true, average = 'weighted'))\n",
        "    print(\"Recall : \",recall_score(pred,true,  average = 'weighted'))\n",
        "    print(\"F1 : \",f1_score(pred,true,  average = 'weighted'))\n",
        "    \n",
        "    "
      ],
      "execution_count": null,
      "outputs": []
    },
    {
      "cell_type": "code",
      "metadata": {
        "id": "ajHXhIfqm7ga",
        "colab": {
          "base_uri": "https://localhost:8080/",
          "height": 597
        },
        "outputId": "de21d1a1-b726-4736-bf73-61b56609a5cb"
      },
      "source": [
        "# Running Logistic Regression\n",
        "pipeline = Pipeline([\n",
        "        ('bow', CountVectorizer()),  \n",
        "        ('tfidf', TfidfTransformer()),  \n",
        "        ('c', LogisticRegression())\n",
        "    ])\n",
        "fit = pipeline.fit(train['text'],train['label'])\n",
        "print('Logistic Regression')\n",
        "print ('test:')\n",
        "pred=pipeline.predict(test['text'])\n",
        "print_metrices(pred,test['label'])\n",
        "plot_confusion_matrix(confusion_matrix(test['label'],pred),target_names=['fake','real'], normalize = False, \\\n",
        "                      title = 'Confusion matrix of LR on val data')\n"
      ],
      "execution_count": null,
      "outputs": [
        {
          "output_type": "stream",
          "text": [
            "Logistic Regression\n",
            "test:\n",
            "[[3178  258]\n",
            " [  32 3429]]\n",
            "              precision    recall  f1-score   support\n",
            "\n",
            "           0       0.99      0.92      0.96      3436\n",
            "           1       0.93      0.99      0.96      3461\n",
            "\n",
            "    accuracy                           0.96      6897\n",
            "   macro avg       0.96      0.96      0.96      6897\n",
            "weighted avg       0.96      0.96      0.96      6897\n",
            "\n",
            "Accuracy :  0.9579527330723503\n",
            "Precison :  0.9601102164358724\n",
            "Recall :  0.9579527330723503\n",
            "F1 :  0.9580029413185797\n"
          ],
          "name": "stdout"
        },
        {
          "output_type": "display_data",
          "data": {
            "image/png": "[encoded data removed]",
            "text/plain": [
              "<Figure size 360x288 with 2 Axes>"
            ]
          },
          "metadata": {
            "tags": [],
            "needs_background": "light"
          }
        }
      ]
    },
    {
      "cell_type": "code",
      "metadata": {
        "colab": {
          "base_uri": "https://localhost:8080/",
          "height": 597
        },
        "id": "La4QLaPkUvFx",
        "outputId": "b141e780-fad3-47bb-ed90-9bfd7cd25bf6"
      },
      "source": [
        "# Running Gradient Boost\n",
        "# May have minor variations due to randomness\n",
        "pipeline = Pipeline([\n",
        "        ('bow', CountVectorizer()),  \n",
        "        ('tfidf', TfidfTransformer()),  \n",
        "        ('c', GradientBoostingClassifier())\n",
        "    ])\n",
        "fit = pipeline.fit(train['text'],train['label'])\n",
        "print('Gradient Boost')\n",
        "print ('test:')\n",
        "pred=pipeline.predict(test['text'])\n",
        "print_metrices(pred,test['label'])\n",
        "plot_confusion_matrix(confusion_matrix(test['label'],pred),target_names=['fake','real'], normalize = False, \\\n",
        "                      title = 'Confusion matrix of GDBT on val data')"
      ],
      "execution_count": null,
      "outputs": [
        {
          "output_type": "stream",
          "text": [
            "Gradient Boost\n",
            "test:\n",
            "[[2619  817]\n",
            " [ 115 3346]]\n",
            "              precision    recall  f1-score   support\n",
            "\n",
            "           0       0.96      0.76      0.85      3436\n",
            "           1       0.80      0.97      0.88      3461\n",
            "\n",
            "    accuracy                           0.86      6897\n",
            "   macro avg       0.88      0.86      0.86      6897\n",
            "weighted avg       0.88      0.86      0.86      6897\n",
            "\n",
            "Accuracy :  0.8648687835290706\n",
            "Precison :  0.8856884824614057\n",
            "Recall :  0.8648687835290706\n",
            "F1 :  0.8663348685538156\n"
          ],
          "name": "stdout"
        },
        {
          "output_type": "display_data",
          "data": {
            "image/png": "[encoded data removed]",
            "text/plain": [
              "<Figure size 360x288 with 2 Axes>"
            ]
          },
          "metadata": {
            "tags": [],
            "needs_background": "light"
          }
        }
      ]
    },
    {
      "cell_type": "code",
      "metadata": {
        "colab": {
          "base_uri": "https://localhost:8080/",
          "height": 597
        },
        "id": "-am6NoZqVIC8",
        "outputId": "e6df47f0-003a-4cdf-90bd-85eb5a5b14bc"
      },
      "source": [
        "# Running Decision Tree\n",
        "# May have minor variations due to randomness\n",
        "\n",
        "pipeline = Pipeline([\n",
        "        ('bow', CountVectorizer()),  \n",
        "        ('tfidf', TfidfTransformer()),  \n",
        "        ('c', tree.DecisionTreeClassifier())\n",
        "    ])\n",
        "fit = pipeline.fit(train['text'],train['label'])\n",
        "\n",
        "print('Decision Tree')\n",
        "print ('test:')\n",
        "pred=pipeline.predict(val['text'])\n",
        "\n",
        "print_metrices(pred, val['label'])\n",
        "plot_confusion_matrix(confusion_matrix(val['label'],pred),target_names=['fake','real'], normalize = False, \\\n",
        "                      title = 'Confusion matrix of DT on val data')"
      ],
      "execution_count": null,
      "outputs": [
        {
          "output_type": "stream",
          "text": [
            "Decision Tree\n",
            "test:\n",
            "[[3204  233]\n",
            " [ 287 3174]]\n",
            "              precision    recall  f1-score   support\n",
            "\n",
            "           0       0.92      0.93      0.92      3437\n",
            "           1       0.93      0.92      0.92      3461\n",
            "\n",
            "    accuracy                           0.92      6898\n",
            "   macro avg       0.92      0.92      0.92      6898\n",
            "weighted avg       0.92      0.92      0.92      6898\n",
            "\n",
            "Accuracy :  0.9246158306755581\n",
            "Precison :  0.9247342919552113\n",
            "Recall :  0.9246158306755581\n",
            "F1 :  0.9246183972685416\n"
          ],
          "name": "stdout"
        },
        {
          "output_type": "display_data",
          "data": {
            "image/png": "[encoded data removed]",
            "text/plain": [
              "<Figure size 360x288 with 2 Axes>"
            ]
          },
          "metadata": {
            "tags": [],
            "needs_background": "light"
          }
        }
      ]
    },
    {
      "cell_type": "code",
      "metadata": {
        "colab": {
          "base_uri": "https://localhost:8080/",
          "height": 597
        },
        "id": "gvqirtEmV2A0",
        "outputId": "25ad65d8-f723-4e78-bc4b-00dbe835cce1"
      },
      "source": [
        "# Running Random Forest\n",
        "# May have minor variations due to randomness\n",
        "\n",
        "pipeline = Pipeline([\n",
        "        ('bow', CountVectorizer()),  \n",
        "        ('tfidf', TfidfTransformer()),  \n",
        "        ('c', RandomForestClassifier())\n",
        "    ])\n",
        "fit = pipeline.fit(train['text'],train['label'])\n",
        "\n",
        "print('Random Forest')\n",
        "print ('test:')\n",
        "pred=pipeline.predict(val['text'])\n",
        "\n",
        "print_metrices(pred,val['label'])\n",
        "plot_confusion_matrix(confusion_matrix(val['label'],pred),target_names=['fake','real'], normalize = False, \\\n",
        "                      title = 'Confusion matrix of Random Forest on val data')\n"
      ],
      "execution_count": null,
      "outputs": [
        {
          "output_type": "stream",
          "text": [
            "Random Forest\n",
            "test:\n",
            "[[3237  200]\n",
            " [  56 3405]]\n",
            "              precision    recall  f1-score   support\n",
            "\n",
            "           0       0.98      0.94      0.96      3437\n",
            "           1       0.94      0.98      0.96      3461\n",
            "\n",
            "    accuracy                           0.96      6898\n",
            "   macro avg       0.96      0.96      0.96      6898\n",
            "weighted avg       0.96      0.96      0.96      6898\n",
            "\n",
            "Accuracy :  0.9628877935633517\n",
            "Precison :  0.9637647779358497\n",
            "Recall :  0.9628877935633517\n",
            "F1 :  0.9629066734703992\n"
          ],
          "name": "stdout"
        },
        {
          "output_type": "display_data",
          "data": {
            "image/png": "[encoded data removed]",
            "text/plain": [
              "<Figure size 360x288 with 2 Axes>"
            ]
          },
          "metadata": {
            "tags": [],
            "needs_background": "light"
          }
        }
      ]
    }
  ]
}